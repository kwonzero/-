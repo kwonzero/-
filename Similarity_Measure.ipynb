{
  "nbformat": 4,
  "nbformat_minor": 0,
  "metadata": {
    "colab": {
      "provenance": [],
      "machine_shape": "hm",
      "include_colab_link": true
    },
    "kernelspec": {
      "name": "python3",
      "display_name": "Python 3"
    },
    "language_info": {
      "name": "python"
    }
  },
  "cells": [
    {
      "cell_type": "markdown",
      "metadata": {
        "id": "view-in-github",
        "colab_type": "text"
      },
      "source": [
        "<a href=\"https://colab.research.google.com/github/kwonzero/Logo-Detection/blob/main/Similarity_Measure.ipynb\" target=\"_parent\"><img src=\"https://colab.research.google.com/assets/colab-badge.svg\" alt=\"Open In Colab\"/></a>"
      ]
    },
    {
      "cell_type": "markdown",
      "source": [
        "# Import\n"
      ],
      "metadata": {
        "id": "SUlxJ2-wdObU"
      }
    },
    {
      "cell_type": "code",
      "execution_count": 1,
      "metadata": {
        "id": "ivekpw_rajoV"
      },
      "outputs": [],
      "source": [
        "import os\n",
        "import fnmatch\n",
        "import zipfile\n",
        "import time\n",
        "from tqdm import tqdm\n",
        "\n",
        "\n",
        "import cv2\n",
        "\n",
        "import random\n",
        "import numpy as np\n",
        "\n",
        "import matplotlib.pyplot as plt\n",
        "import matplotlib.gridspec as gridspec\n",
        "import seaborn as sns\n",
        "\n",
        "import pandas as pd\n",
        "from sklearn import metrics"
      ]
    },
    {
      "cell_type": "code",
      "source": [
        "from google.colab import drive\n",
        "drive.mount('/content/drive')"
      ],
      "metadata": {
        "id": "621-P0xxfQ1E",
        "colab": {
          "base_uri": "https://localhost:8080/"
        },
        "outputId": "33ccb444-563c-440b-b8f0-648f22c341ee"
      },
      "execution_count": 2,
      "outputs": [
        {
          "output_type": "stream",
          "name": "stdout",
          "text": [
            "Mounted at /content/drive\n"
          ]
        }
      ]
    },
    {
      "cell_type": "code",
      "source": [
        "data = '/content/drive/MyDrive/Project/기업연계(Logo Detection)/Data'"
      ],
      "metadata": {
        "id": "U2J2TaIYdp-7"
      },
      "execution_count": 3,
      "outputs": []
    },
    {
      "cell_type": "markdown",
      "source": [
        "#SEED\n"
      ],
      "metadata": {
        "id": "pIh7tGn1YXsk"
      }
    },
    {
      "cell_type": "code",
      "source": [
        "def seed_everything(seed):\n",
        "    random.seed(seed)\n",
        "    os.environ['PYTHONHASHSEED'] = str(seed)\n",
        "    np.random.seed(seed)\n",
        "\n",
        "seed_everything(2024) # Seed 고정"
      ],
      "metadata": {
        "id": "dfkfUF22SZml"
      },
      "execution_count": 4,
      "outputs": []
    },
    {
      "cell_type": "markdown",
      "source": [
        "# Upscaling Model"
      ],
      "metadata": {
        "id": "p6eAWRYwS8jl"
      }
    },
    {
      "cell_type": "code",
      "source": [
        "# Define model\n",
        "sr2 = cv2.dnn_superres.DnnSuperResImpl_create()\n",
        "sr2.readModel('/content/drive/MyDrive/Project/기업연계(Logo Detection)/Similarity Measure/EDSR_x3.pb')\n",
        "sr2.setModel('edsr', 2)"
      ],
      "metadata": {
        "id": "vQuvBCXFS7kg"
      },
      "execution_count": 5,
      "outputs": []
    },
    {
      "cell_type": "markdown",
      "source": [
        "# Functions\n"
      ],
      "metadata": {
        "id": "Y4t8skZ1x2OZ"
      }
    },
    {
      "cell_type": "markdown",
      "source": [
        "### Check background color"
      ],
      "metadata": {
        "id": "-Isci-9KLKYw"
      }
    },
    {
      "cell_type": "code",
      "source": [
        "def check_background_black(gray_image): # Gray Scale 이미지만 받기\n",
        "    gray = gray_image\n",
        "    gray_cvt = cv2.bitwise_not(gray.copy()) # 비교를 위한 이미지 변환\n",
        "\n",
        "    # 객체와 배경 분리를 위한 threshold 구하기\n",
        "    _, thresh = cv2.threshold(gray, 127, 255, cv2.THRESH_BINARY)\n",
        "    _, thresh_cvt = cv2.threshold(gray_cvt, 127, 255, cv2.THRESH_BINARY)\n",
        "\n",
        "    thresh = cv2.erode(thresh, None, iterations=2)\n",
        "    thresh = cv2.dilate(thresh, None, iterations=2)\n",
        "    thresh_cvt = cv2.erode(thresh_cvt, None, iterations=2)\n",
        "    thresh_cvt = cv2.dilate(thresh_cvt, None, iterations=2)\n",
        "\n",
        "    # 컨투어 찾기\n",
        "    contours, hierarchy = cv2.findContours(thresh.copy(), cv2.RETR_EXTERNAL, cv2.CHAIN_APPROX_SIMPLE) # 면적은 EXTERNAL로 비교, 변환은 CCOMP\n",
        "    sorted_contours = sorted(contours, key=cv2.contourArea, reverse=True)\n",
        "    c0 = sorted_contours[0]\n",
        "    c_area = cv2.contourArea(c0)\n",
        "\n",
        "    contours_cvt, hierarchy_cvt = cv2.findContours(thresh_cvt.copy(), cv2.RETR_EXTERNAL, cv2.CHAIN_APPROX_SIMPLE)\n",
        "    sorted_contours_cvt = sorted(contours_cvt, key=cv2.contourArea, reverse=True)\n",
        "    c0_cvt = sorted_contours_cvt[0]\n",
        "    c_area_cvt = cv2.contourArea(c0_cvt)\n",
        "\n",
        "    # 면적에 따른 결과 반환\n",
        "    check = True\n",
        "    if c_area > c_area_cvt: # bitwise를 하지 않은 이미지의 객체 면적이 넓은 경우 -> 제대로 객체 검출이 안 된 것\n",
        "        check = False\n",
        "    return check"
      ],
      "metadata": {
        "id": "EDxV-hotJKaK"
      },
      "execution_count": 6,
      "outputs": []
    },
    {
      "cell_type": "markdown",
      "source": [
        "### Align Images"
      ],
      "metadata": {
        "id": "c10cXa44uHsU"
      }
    },
    {
      "cell_type": "code",
      "source": [
        "def align_images(image1, image2): # RGB 이미지 입력\n",
        "    img1 = image1\n",
        "    img2 = image2\n",
        "\n",
        "    # upsampling image, 이미지가 작은 경우 keypoints를 구하기 어렵기에 이미지 해상도 증가\n",
        "    img2 = cv2.resize(img2, (img1.shape[1], img1.shape[0]), interpolation = cv2.INTER_LANCZOS4)\n",
        "\n",
        "\n",
        "\n",
        "\n",
        "    # image to gray scale, align 할 때 컬러가 방해요소가 되기에 gray 스케일 변환\n",
        "    img1 = cv2.cvtColor(img1, cv2.COLOR_RGB2GRAY)\n",
        "    img2 = cv2.cvtColor(img2, cv2.COLOR_RGB2GRAY)\n",
        "\n",
        "    # 이미지 변환을 위해 이미지들의 배경을 흰색으로 통일\n",
        "    if check_background_black(img2):\n",
        "        img2 = cv2.bitwise_not(img2)\n",
        "\n",
        "    # AKAZE detector\n",
        "    algorithm = cv2.AKAZE_create(descriptor_type = cv2.AKAZE_DESCRIPTOR_MLDB_UPRIGHT,\n",
        "                                descriptor_size = 0,\n",
        "                                descriptor_channels = 3,\n",
        "                                threshold = 0.00002, # default 0.001 -> 적절히 감소시킬수록 변환이 잘 됨.(0.00002)\n",
        "                                nOctaves = 4, # default 4 ->\n",
        "                                nOctaveLayers = 10, # default 4 -> 늘려주니 성능 상승\n",
        "                                diffusivity = cv2.KAZE_DIFF_PM_G1) # default PM_G2 -> PM_G1 괜찮음\n",
        "\n",
        "    # compute the descriptors with ORB\n",
        "    kp1, des1 = algorithm.detectAndCompute(img1,None)\n",
        "    kp2, des2 = algorithm.detectAndCompute(img2,None)\n",
        "\n",
        "    # Define Matcher\n",
        "    # ORB의 경우 2진 문자열 기반의 방식 -> HAMMING 사용되어져야 함\n",
        "    bf = cv2.BFMatcher(cv2.NORM_HAMMING, crossCheck=True)\n",
        "    matches = bf.match(des1,des2)\n",
        "\n",
        "    # Sort them in the order of their distance.\n",
        "    matches = sorted(matches, key = lambda x:x.distance)\n",
        "\n",
        "    # Aligning image\n",
        "    kp1 = np.float32([kp1[match.queryIdx].pt for match in matches]).reshape(-1, 1, 2)\n",
        "    kp2 = np.float32([kp2[match.trainIdx].pt for match in matches]).reshape(-1, 1, 2)\n",
        "\n",
        "    # 기준 이미지에 맞추어 호모그래피 생성\n",
        "    M, _ = cv2.findHomography(kp2, kp1, cv2.RANSAC)\n",
        "\n",
        "    # 호모그래피를 통한 이미지 변환\n",
        "    aligned = cv2.warpPerspective(img2, M, (img1.shape[1], img1.shape[0]))\n",
        "\n",
        "    return img1, img2, aligned"
      ],
      "metadata": {
        "id": "N3xu-K7buQ2d"
      },
      "execution_count": 7,
      "outputs": []
    },
    {
      "cell_type": "markdown",
      "source": [
        "### Similarity"
      ],
      "metadata": {
        "id": "OAKZrAvYyQFn"
      }
    },
    {
      "cell_type": "code",
      "source": [
        "# 두 이미지의 코사인 유사도\n",
        "def cosine_sim(x0, x1):\n",
        "    dot_product = x0 @ x1\n",
        "    magnitude1 = np.linalg.norm(x0)\n",
        "    magnitude2 = np.linalg.norm(x1)\n",
        "    cosine_similarity = dot_product / (magnitude1 * magnitude2)\n",
        "    return cosine_similarity"
      ],
      "metadata": {
        "id": "cF7KveLHTsq2"
      },
      "execution_count": 8,
      "outputs": []
    },
    {
      "cell_type": "code",
      "source": [
        "# 두 이미지의 유클리디안 유사도\n",
        "def euclidean_dist(x0, x1):\n",
        "    x = x0 - x1\n",
        "    distance = np.sqrt(x @ x)\n",
        "    return distance"
      ],
      "metadata": {
        "id": "ITzoEzxWEC9X"
      },
      "execution_count": 9,
      "outputs": []
    },
    {
      "cell_type": "markdown",
      "source": [
        "### Get similarity DataFrame\n"
      ],
      "metadata": {
        "id": "Aj4Wb_mqfkcr"
      }
    },
    {
      "cell_type": "code",
      "source": [
        "def get_similarity(brands):\n",
        "    cols = ['brand', 'name', 'image_type', 'euclidean', 'cosine']\n",
        "    dicts = {col:[] for col in cols}\n",
        "    for brand in brands:\n",
        "        # 브랜드 폴더 별로 데이터 받아오기\n",
        "        for i, file_name in tqdm(enumerate((os.listdir(f'{data}/image_for_similarity/{brand}')))):\n",
        "            # 이미지 경로 설정\n",
        "            path1 = f'{data}/LOGO/{brand}.png'\n",
        "            path2 = f'{data}/image_for_similarity/{brand}/{file_name}'\n",
        "\n",
        "            # 이미지 받아오기 및 RGB 변환\n",
        "            img1 = cv2.imread(path1, 1)\n",
        "            img2 = cv2.imread(path2, 1)\n",
        "            img1 = cv2.cvtColor(img1, cv2.COLOR_BGR2RGB)\n",
        "            img2 = cv2.cvtColor(img2, cv2.COLOR_BGR2RGB)\n",
        "\n",
        "            # 이미지 조정\n",
        "            img1, img2, aligned = align_images(img1, img2)\n",
        "\n",
        "            # 이미지 Vector 생성\n",
        "            img1_vec = img1.ravel() / 255.\n",
        "            img2_vec = aligned.ravel() / 255.\n",
        "\n",
        "            # Similarity 계산\n",
        "            euclidean = euclidean_dist(img1_vec, img2_vec)\n",
        "            cosine = cosine_sim(img1_vec, img2_vec)\n",
        "\n",
        "            # Label 추출\n",
        "            parts = file_name.split('_')\n",
        "            if 'fake' in parts:\n",
        "                label = 'fake'\n",
        "            elif 'real' in parts:\n",
        "                label = 'real'\n",
        "            else:\n",
        "                label = None\n",
        "\n",
        "            # Dictionary에 데이터 저장\n",
        "            lists = [brand, file_name, label, euclidean, cosine]\n",
        "            for i, col in enumerate(cols):\n",
        "                dicts[col].append(lists[i])\n",
        "    # 저장된 데이터를 DataFrame형태로 반환\n",
        "    matches_df = pd.DataFrame(dicts, columns=cols)\n",
        "    return matches_df"
      ],
      "metadata": {
        "id": "t3d26IXpgoNf"
      },
      "execution_count": 10,
      "outputs": []
    },
    {
      "cell_type": "markdown",
      "source": [
        "### Get Metrics"
      ],
      "metadata": {
        "id": "x5wNKUu3mXrq"
      }
    },
    {
      "cell_type": "code",
      "source": [
        "# def get_Metrics(df):\n"
      ],
      "metadata": {
        "id": "bsMyNezJmjP0"
      },
      "execution_count": 11,
      "outputs": []
    },
    {
      "cell_type": "markdown",
      "source": [
        "# Similarity Measure"
      ],
      "metadata": {
        "id": "jNt6oVx7j7za"
      }
    },
    {
      "cell_type": "code",
      "source": [
        "cols = ['brand', 'name', 'image_type', 'euclidean', 'cosine']\n",
        "dicts = {col:[] for col in cols}\n",
        "\n",
        "brands = ['adidas', 'puma', 'nike']\n",
        "# brands = ['adidas']\n",
        "start_time = time.time()\n",
        "\n",
        "matches_df = get_similarity(brands)\n",
        "\n",
        "end_time = time.time()\n",
        "execution_time = end_time - start_time\n",
        "print(f\"실행 시간: {execution_time} 초\")"
      ],
      "metadata": {
        "id": "uWZtA-vWBA6a",
        "colab": {
          "base_uri": "https://localhost:8080/"
        },
        "outputId": "1ad4576b-e1da-4e5d-aa97-47b39b401989"
      },
      "execution_count": 12,
      "outputs": [
        {
          "output_type": "stream",
          "name": "stderr",
          "text": [
            "39it [00:17,  2.19it/s]\n",
            "23it [00:09,  2.39it/s]\n",
            "50it [00:21,  2.34it/s]"
          ]
        },
        {
          "output_type": "stream",
          "name": "stdout",
          "text": [
            "실행 시간: 50.44462871551514 초\n"
          ]
        },
        {
          "output_type": "stream",
          "name": "stderr",
          "text": [
            "\n"
          ]
        }
      ]
    },
    {
      "cell_type": "code",
      "source": [
        "matches_df"
      ],
      "metadata": {
        "id": "VBiy3cowj8W1",
        "colab": {
          "base_uri": "https://localhost:8080/",
          "height": 423
        },
        "outputId": "d1f11ebb-b1e7-47bd-f571-dafa56a81e03"
      },
      "execution_count": 13,
      "outputs": [
        {
          "output_type": "execute_result",
          "data": {
            "text/plain": [
              "      brand                        name image_type   euclidean    cosine\n",
              "0    adidas  adidas_sports_real_1_1.jpg       real  124.131554  0.932055\n",
              "1    adidas          fake_adidas_32.jpg       fake  265.742834  0.624711\n",
              "2    adidas          fake_adidas_27.jpg       fake  225.266947  0.740365\n",
              "3    adidas          fake_adidas_31.jpg       fake  171.660116  0.861111\n",
              "4    adidas          fake_adidas_24.jpg       fake  191.194442  0.821601\n",
              "..      ...                         ...        ...         ...       ...\n",
              "107    nike          real_nike_02_1.jpg       real  103.402141  0.938524\n",
              "108    nike          real_nike_27_1.jpg       real  119.087619  0.936351\n",
              "109    nike          real_nike_03_1.jpg       real  140.251169  0.882971\n",
              "110    nike          real_nike_01_1.jpg       real  123.470044  0.908603\n",
              "111    nike          real_nike_25_1.jpg       real  108.937378  0.935869\n",
              "\n",
              "[112 rows x 5 columns]"
            ],
            "text/html": [
              "\n",
              "  <div id=\"df-1a2793a5-9b3f-4035-89cd-86edd1a92cd3\" class=\"colab-df-container\">\n",
              "    <div>\n",
              "<style scoped>\n",
              "    .dataframe tbody tr th:only-of-type {\n",
              "        vertical-align: middle;\n",
              "    }\n",
              "\n",
              "    .dataframe tbody tr th {\n",
              "        vertical-align: top;\n",
              "    }\n",
              "\n",
              "    .dataframe thead th {\n",
              "        text-align: right;\n",
              "    }\n",
              "</style>\n",
              "<table border=\"1\" class=\"dataframe\">\n",
              "  <thead>\n",
              "    <tr style=\"text-align: right;\">\n",
              "      <th></th>\n",
              "      <th>brand</th>\n",
              "      <th>name</th>\n",
              "      <th>image_type</th>\n",
              "      <th>euclidean</th>\n",
              "      <th>cosine</th>\n",
              "    </tr>\n",
              "  </thead>\n",
              "  <tbody>\n",
              "    <tr>\n",
              "      <th>0</th>\n",
              "      <td>adidas</td>\n",
              "      <td>adidas_sports_real_1_1.jpg</td>\n",
              "      <td>real</td>\n",
              "      <td>124.131554</td>\n",
              "      <td>0.932055</td>\n",
              "    </tr>\n",
              "    <tr>\n",
              "      <th>1</th>\n",
              "      <td>adidas</td>\n",
              "      <td>fake_adidas_32.jpg</td>\n",
              "      <td>fake</td>\n",
              "      <td>265.742834</td>\n",
              "      <td>0.624711</td>\n",
              "    </tr>\n",
              "    <tr>\n",
              "      <th>2</th>\n",
              "      <td>adidas</td>\n",
              "      <td>fake_adidas_27.jpg</td>\n",
              "      <td>fake</td>\n",
              "      <td>225.266947</td>\n",
              "      <td>0.740365</td>\n",
              "    </tr>\n",
              "    <tr>\n",
              "      <th>3</th>\n",
              "      <td>adidas</td>\n",
              "      <td>fake_adidas_31.jpg</td>\n",
              "      <td>fake</td>\n",
              "      <td>171.660116</td>\n",
              "      <td>0.861111</td>\n",
              "    </tr>\n",
              "    <tr>\n",
              "      <th>4</th>\n",
              "      <td>adidas</td>\n",
              "      <td>fake_adidas_24.jpg</td>\n",
              "      <td>fake</td>\n",
              "      <td>191.194442</td>\n",
              "      <td>0.821601</td>\n",
              "    </tr>\n",
              "    <tr>\n",
              "      <th>...</th>\n",
              "      <td>...</td>\n",
              "      <td>...</td>\n",
              "      <td>...</td>\n",
              "      <td>...</td>\n",
              "      <td>...</td>\n",
              "    </tr>\n",
              "    <tr>\n",
              "      <th>107</th>\n",
              "      <td>nike</td>\n",
              "      <td>real_nike_02_1.jpg</td>\n",
              "      <td>real</td>\n",
              "      <td>103.402141</td>\n",
              "      <td>0.938524</td>\n",
              "    </tr>\n",
              "    <tr>\n",
              "      <th>108</th>\n",
              "      <td>nike</td>\n",
              "      <td>real_nike_27_1.jpg</td>\n",
              "      <td>real</td>\n",
              "      <td>119.087619</td>\n",
              "      <td>0.936351</td>\n",
              "    </tr>\n",
              "    <tr>\n",
              "      <th>109</th>\n",
              "      <td>nike</td>\n",
              "      <td>real_nike_03_1.jpg</td>\n",
              "      <td>real</td>\n",
              "      <td>140.251169</td>\n",
              "      <td>0.882971</td>\n",
              "    </tr>\n",
              "    <tr>\n",
              "      <th>110</th>\n",
              "      <td>nike</td>\n",
              "      <td>real_nike_01_1.jpg</td>\n",
              "      <td>real</td>\n",
              "      <td>123.470044</td>\n",
              "      <td>0.908603</td>\n",
              "    </tr>\n",
              "    <tr>\n",
              "      <th>111</th>\n",
              "      <td>nike</td>\n",
              "      <td>real_nike_25_1.jpg</td>\n",
              "      <td>real</td>\n",
              "      <td>108.937378</td>\n",
              "      <td>0.935869</td>\n",
              "    </tr>\n",
              "  </tbody>\n",
              "</table>\n",
              "<p>112 rows × 5 columns</p>\n",
              "</div>\n",
              "    <div class=\"colab-df-buttons\">\n",
              "\n",
              "  <div class=\"colab-df-container\">\n",
              "    <button class=\"colab-df-convert\" onclick=\"convertToInteractive('df-1a2793a5-9b3f-4035-89cd-86edd1a92cd3')\"\n",
              "            title=\"Convert this dataframe to an interactive table.\"\n",
              "            style=\"display:none;\">\n",
              "\n",
              "  <svg xmlns=\"http://www.w3.org/2000/svg\" height=\"24px\" viewBox=\"0 -960 960 960\">\n",
              "    <path d=\"M120-120v-720h720v720H120Zm60-500h600v-160H180v160Zm220 220h160v-160H400v160Zm0 220h160v-160H400v160ZM180-400h160v-160H180v160Zm440 0h160v-160H620v160ZM180-180h160v-160H180v160Zm440 0h160v-160H620v160Z\"/>\n",
              "  </svg>\n",
              "    </button>\n",
              "\n",
              "  <style>\n",
              "    .colab-df-container {\n",
              "      display:flex;\n",
              "      gap: 12px;\n",
              "    }\n",
              "\n",
              "    .colab-df-convert {\n",
              "      background-color: #E8F0FE;\n",
              "      border: none;\n",
              "      border-radius: 50%;\n",
              "      cursor: pointer;\n",
              "      display: none;\n",
              "      fill: #1967D2;\n",
              "      height: 32px;\n",
              "      padding: 0 0 0 0;\n",
              "      width: 32px;\n",
              "    }\n",
              "\n",
              "    .colab-df-convert:hover {\n",
              "      background-color: #E2EBFA;\n",
              "      box-shadow: 0px 1px 2px rgba(60, 64, 67, 0.3), 0px 1px 3px 1px rgba(60, 64, 67, 0.15);\n",
              "      fill: #174EA6;\n",
              "    }\n",
              "\n",
              "    .colab-df-buttons div {\n",
              "      margin-bottom: 4px;\n",
              "    }\n",
              "\n",
              "    [theme=dark] .colab-df-convert {\n",
              "      background-color: #3B4455;\n",
              "      fill: #D2E3FC;\n",
              "    }\n",
              "\n",
              "    [theme=dark] .colab-df-convert:hover {\n",
              "      background-color: #434B5C;\n",
              "      box-shadow: 0px 1px 3px 1px rgba(0, 0, 0, 0.15);\n",
              "      filter: drop-shadow(0px 1px 2px rgba(0, 0, 0, 0.3));\n",
              "      fill: #FFFFFF;\n",
              "    }\n",
              "  </style>\n",
              "\n",
              "    <script>\n",
              "      const buttonEl =\n",
              "        document.querySelector('#df-1a2793a5-9b3f-4035-89cd-86edd1a92cd3 button.colab-df-convert');\n",
              "      buttonEl.style.display =\n",
              "        google.colab.kernel.accessAllowed ? 'block' : 'none';\n",
              "\n",
              "      async function convertToInteractive(key) {\n",
              "        const element = document.querySelector('#df-1a2793a5-9b3f-4035-89cd-86edd1a92cd3');\n",
              "        const dataTable =\n",
              "          await google.colab.kernel.invokeFunction('convertToInteractive',\n",
              "                                                    [key], {});\n",
              "        if (!dataTable) return;\n",
              "\n",
              "        const docLinkHtml = 'Like what you see? Visit the ' +\n",
              "          '<a target=\"_blank\" href=https://colab.research.google.com/notebooks/data_table.ipynb>data table notebook</a>'\n",
              "          + ' to learn more about interactive tables.';\n",
              "        element.innerHTML = '';\n",
              "        dataTable['output_type'] = 'display_data';\n",
              "        await google.colab.output.renderOutput(dataTable, element);\n",
              "        const docLink = document.createElement('div');\n",
              "        docLink.innerHTML = docLinkHtml;\n",
              "        element.appendChild(docLink);\n",
              "      }\n",
              "    </script>\n",
              "  </div>\n",
              "\n",
              "\n",
              "<div id=\"df-3fa35f4c-bf6e-4fa0-b98f-c4d0795d44f6\">\n",
              "  <button class=\"colab-df-quickchart\" onclick=\"quickchart('df-3fa35f4c-bf6e-4fa0-b98f-c4d0795d44f6')\"\n",
              "            title=\"Suggest charts\"\n",
              "            style=\"display:none;\">\n",
              "\n",
              "<svg xmlns=\"http://www.w3.org/2000/svg\" height=\"24px\"viewBox=\"0 0 24 24\"\n",
              "     width=\"24px\">\n",
              "    <g>\n",
              "        <path d=\"M19 3H5c-1.1 0-2 .9-2 2v14c0 1.1.9 2 2 2h14c1.1 0 2-.9 2-2V5c0-1.1-.9-2-2-2zM9 17H7v-7h2v7zm4 0h-2V7h2v10zm4 0h-2v-4h2v4z\"/>\n",
              "    </g>\n",
              "</svg>\n",
              "  </button>\n",
              "\n",
              "<style>\n",
              "  .colab-df-quickchart {\n",
              "      --bg-color: #E8F0FE;\n",
              "      --fill-color: #1967D2;\n",
              "      --hover-bg-color: #E2EBFA;\n",
              "      --hover-fill-color: #174EA6;\n",
              "      --disabled-fill-color: #AAA;\n",
              "      --disabled-bg-color: #DDD;\n",
              "  }\n",
              "\n",
              "  [theme=dark] .colab-df-quickchart {\n",
              "      --bg-color: #3B4455;\n",
              "      --fill-color: #D2E3FC;\n",
              "      --hover-bg-color: #434B5C;\n",
              "      --hover-fill-color: #FFFFFF;\n",
              "      --disabled-bg-color: #3B4455;\n",
              "      --disabled-fill-color: #666;\n",
              "  }\n",
              "\n",
              "  .colab-df-quickchart {\n",
              "    background-color: var(--bg-color);\n",
              "    border: none;\n",
              "    border-radius: 50%;\n",
              "    cursor: pointer;\n",
              "    display: none;\n",
              "    fill: var(--fill-color);\n",
              "    height: 32px;\n",
              "    padding: 0;\n",
              "    width: 32px;\n",
              "  }\n",
              "\n",
              "  .colab-df-quickchart:hover {\n",
              "    background-color: var(--hover-bg-color);\n",
              "    box-shadow: 0 1px 2px rgba(60, 64, 67, 0.3), 0 1px 3px 1px rgba(60, 64, 67, 0.15);\n",
              "    fill: var(--button-hover-fill-color);\n",
              "  }\n",
              "\n",
              "  .colab-df-quickchart-complete:disabled,\n",
              "  .colab-df-quickchart-complete:disabled:hover {\n",
              "    background-color: var(--disabled-bg-color);\n",
              "    fill: var(--disabled-fill-color);\n",
              "    box-shadow: none;\n",
              "  }\n",
              "\n",
              "  .colab-df-spinner {\n",
              "    border: 2px solid var(--fill-color);\n",
              "    border-color: transparent;\n",
              "    border-bottom-color: var(--fill-color);\n",
              "    animation:\n",
              "      spin 1s steps(1) infinite;\n",
              "  }\n",
              "\n",
              "  @keyframes spin {\n",
              "    0% {\n",
              "      border-color: transparent;\n",
              "      border-bottom-color: var(--fill-color);\n",
              "      border-left-color: var(--fill-color);\n",
              "    }\n",
              "    20% {\n",
              "      border-color: transparent;\n",
              "      border-left-color: var(--fill-color);\n",
              "      border-top-color: var(--fill-color);\n",
              "    }\n",
              "    30% {\n",
              "      border-color: transparent;\n",
              "      border-left-color: var(--fill-color);\n",
              "      border-top-color: var(--fill-color);\n",
              "      border-right-color: var(--fill-color);\n",
              "    }\n",
              "    40% {\n",
              "      border-color: transparent;\n",
              "      border-right-color: var(--fill-color);\n",
              "      border-top-color: var(--fill-color);\n",
              "    }\n",
              "    60% {\n",
              "      border-color: transparent;\n",
              "      border-right-color: var(--fill-color);\n",
              "    }\n",
              "    80% {\n",
              "      border-color: transparent;\n",
              "      border-right-color: var(--fill-color);\n",
              "      border-bottom-color: var(--fill-color);\n",
              "    }\n",
              "    90% {\n",
              "      border-color: transparent;\n",
              "      border-bottom-color: var(--fill-color);\n",
              "    }\n",
              "  }\n",
              "</style>\n",
              "\n",
              "  <script>\n",
              "    async function quickchart(key) {\n",
              "      const quickchartButtonEl =\n",
              "        document.querySelector('#' + key + ' button');\n",
              "      quickchartButtonEl.disabled = true;  // To prevent multiple clicks.\n",
              "      quickchartButtonEl.classList.add('colab-df-spinner');\n",
              "      try {\n",
              "        const charts = await google.colab.kernel.invokeFunction(\n",
              "            'suggestCharts', [key], {});\n",
              "      } catch (error) {\n",
              "        console.error('Error during call to suggestCharts:', error);\n",
              "      }\n",
              "      quickchartButtonEl.classList.remove('colab-df-spinner');\n",
              "      quickchartButtonEl.classList.add('colab-df-quickchart-complete');\n",
              "    }\n",
              "    (() => {\n",
              "      let quickchartButtonEl =\n",
              "        document.querySelector('#df-3fa35f4c-bf6e-4fa0-b98f-c4d0795d44f6 button');\n",
              "      quickchartButtonEl.style.display =\n",
              "        google.colab.kernel.accessAllowed ? 'block' : 'none';\n",
              "    })();\n",
              "  </script>\n",
              "</div>\n",
              "\n",
              "  <div id=\"id_03c8b94f-ee75-494b-a661-c3468cc3a4a3\">\n",
              "    <style>\n",
              "      .colab-df-generate {\n",
              "        background-color: #E8F0FE;\n",
              "        border: none;\n",
              "        border-radius: 50%;\n",
              "        cursor: pointer;\n",
              "        display: none;\n",
              "        fill: #1967D2;\n",
              "        height: 32px;\n",
              "        padding: 0 0 0 0;\n",
              "        width: 32px;\n",
              "      }\n",
              "\n",
              "      .colab-df-generate:hover {\n",
              "        background-color: #E2EBFA;\n",
              "        box-shadow: 0px 1px 2px rgba(60, 64, 67, 0.3), 0px 1px 3px 1px rgba(60, 64, 67, 0.15);\n",
              "        fill: #174EA6;\n",
              "      }\n",
              "\n",
              "      [theme=dark] .colab-df-generate {\n",
              "        background-color: #3B4455;\n",
              "        fill: #D2E3FC;\n",
              "      }\n",
              "\n",
              "      [theme=dark] .colab-df-generate:hover {\n",
              "        background-color: #434B5C;\n",
              "        box-shadow: 0px 1px 3px 1px rgba(0, 0, 0, 0.15);\n",
              "        filter: drop-shadow(0px 1px 2px rgba(0, 0, 0, 0.3));\n",
              "        fill: #FFFFFF;\n",
              "      }\n",
              "    </style>\n",
              "    <button class=\"colab-df-generate\" onclick=\"generateWithVariable('matches_df')\"\n",
              "            title=\"Generate code using this dataframe.\"\n",
              "            style=\"display:none;\">\n",
              "\n",
              "  <svg xmlns=\"http://www.w3.org/2000/svg\" height=\"24px\"viewBox=\"0 0 24 24\"\n",
              "       width=\"24px\">\n",
              "    <path d=\"M7,19H8.4L18.45,9,17,7.55,7,17.6ZM5,21V16.75L18.45,3.32a2,2,0,0,1,2.83,0l1.4,1.43a1.91,1.91,0,0,1,.58,1.4,1.91,1.91,0,0,1-.58,1.4L9.25,21ZM18.45,9,17,7.55Zm-12,3A5.31,5.31,0,0,0,4.9,8.1,5.31,5.31,0,0,0,1,6.5,5.31,5.31,0,0,0,4.9,4.9,5.31,5.31,0,0,0,6.5,1,5.31,5.31,0,0,0,8.1,4.9,5.31,5.31,0,0,0,12,6.5,5.46,5.46,0,0,0,6.5,12Z\"/>\n",
              "  </svg>\n",
              "    </button>\n",
              "    <script>\n",
              "      (() => {\n",
              "      const buttonEl =\n",
              "        document.querySelector('#id_03c8b94f-ee75-494b-a661-c3468cc3a4a3 button.colab-df-generate');\n",
              "      buttonEl.style.display =\n",
              "        google.colab.kernel.accessAllowed ? 'block' : 'none';\n",
              "\n",
              "      buttonEl.onclick = () => {\n",
              "        google.colab.notebook.generateWithVariable('matches_df');\n",
              "      }\n",
              "      })();\n",
              "    </script>\n",
              "  </div>\n",
              "\n",
              "    </div>\n",
              "  </div>\n"
            ],
            "application/vnd.google.colaboratory.intrinsic+json": {
              "type": "dataframe",
              "variable_name": "matches_df",
              "summary": "{\n  \"name\": \"matches_df\",\n  \"rows\": 112,\n  \"fields\": [\n    {\n      \"column\": \"brand\",\n      \"properties\": {\n        \"dtype\": \"category\",\n        \"samples\": [\n          \"adidas\",\n          \"puma\",\n          \"nike\"\n        ],\n        \"num_unique_values\": 3,\n        \"semantic_type\": \"\",\n        \"description\": \"\"\n      }\n    },\n    {\n      \"column\": \"name\",\n      \"properties\": {\n        \"dtype\": \"string\",\n        \"samples\": [\n          \"fake_puma_20.jpg\",\n          \"real_nike_10_1.jpg\",\n          \"fake_adidas_24.jpg\"\n        ],\n        \"num_unique_values\": 112,\n        \"semantic_type\": \"\",\n        \"description\": \"\"\n      }\n    },\n    {\n      \"column\": \"image_type\",\n      \"properties\": {\n        \"dtype\": \"category\",\n        \"samples\": [\n          \"fake\",\n          \"real\"\n        ],\n        \"num_unique_values\": 2,\n        \"semantic_type\": \"\",\n        \"description\": \"\"\n      }\n    },\n    {\n      \"column\": \"euclidean\",\n      \"properties\": {\n        \"dtype\": \"number\",\n        \"std\": 56.43024727795905,\n        \"min\": 84.34538803569058,\n        \"max\": 314.23017036758773,\n        \"samples\": [\n          172.05251288354512,\n          170.54158803280362\n        ],\n        \"num_unique_values\": 110,\n        \"semantic_type\": \"\",\n        \"description\": \"\"\n      }\n    },\n    {\n      \"column\": \"cosine\",\n      \"properties\": {\n        \"dtype\": \"number\",\n        \"std\": 0.1511729448737635,\n        \"min\": 0.30960010211311556,\n        \"max\": 0.9687902118840683,\n        \"samples\": [\n          0.8146881887941269,\n          0.8662462596900571\n        ],\n        \"num_unique_values\": 110,\n        \"semantic_type\": \"\",\n        \"description\": \"\"\n      }\n    }\n  ]\n}"
            }
          },
          "metadata": {},
          "execution_count": 13
        }
      ]
    },
    {
      "cell_type": "code",
      "source": [
        "import pandas as pd\n",
        "import matplotlib.pyplot as plt\n",
        "\n",
        "# Assuming your data is stored in a DataFrame called df\n",
        "# If not, you can read it from your source\n",
        "\n",
        "# Grouping data by brand and image_type and counting occurrences\n",
        "grouped = matches_df.groupby(['brand', 'image_type']).size().unstack()\n",
        "plt.figure(figsize=(10,2))\n",
        "# Plotting\n",
        "ax = grouped.plot(kind='bar', color=['#CCCCCC', '#888888', '#444444'])\n",
        "plt.xlabel('Brand')\n",
        "plt.ylabel('Count')\n",
        "plt.legend(title='Image Type')\n",
        "\n",
        "# Adding count labels inside the bars\n",
        "for p in ax.patches:\n",
        "    width, height = p.get_width(), p.get_height()\n",
        "    x, y = p.get_xy()\n",
        "    ax.text(x + width/2, y + height/2, int(height),\n",
        "            horizontalalignment='center', verticalalignment='center')\n",
        "plt.xticks(rotation=0)\n",
        "plt.show()"
      ],
      "metadata": {
        "id": "91LSFRmUzgSJ",
        "colab": {
          "base_uri": "https://localhost:8080/",
          "height": 467
        },
        "outputId": "d3318eaf-6a2a-4d4c-cfb7-c69ce8ead671"
      },
      "execution_count": 14,
      "outputs": [
        {
          "output_type": "display_data",
          "data": {
            "text/plain": [
              "<Figure size 1000x200 with 0 Axes>"
            ]
          },
          "metadata": {}
        },
        {
          "output_type": "display_data",
          "data": {
            "text/plain": [
              "<Figure size 640x480 with 1 Axes>"
            ],
            "image/png": "[encoded data removed]"
          },
          "metadata": {}
        }
      ]
    },
    {
      "cell_type": "code",
      "source": [
        "matches_df[matches_df['brand'] =='puma'].name"
      ],
      "metadata": {
        "id": "6QlbZFVHtORM",
        "colab": {
          "base_uri": "https://localhost:8080/"
        },
        "outputId": "b133ccad-2bc2-469d-b7e9-89353220c7fb"
      },
      "execution_count": 15,
      "outputs": [
        {
          "output_type": "execute_result",
          "data": {
            "text/plain": [
              "39    real_puma_14_1.jpg\n",
              "40      fake_puma_20.jpg\n",
              "41    fake_puma_21_1.jpg\n",
              "42    real_puma_10_1.jpg\n",
              "43      fake_puma_09.jpg\n",
              "44    real_puma_15_2.jpg\n",
              "45    fake_puma_22_1.jpg\n",
              "46    real_puma_14_2.jpg\n",
              "47    real_puma_09_1.jpg\n",
              "48    real_puma_12_1.jpg\n",
              "49      fake_puma_18.jpg\n",
              "50    real_puma_11_1.jpg\n",
              "51    fake_puma_13_1.jpg\n",
              "52      fake_puma_01.jpg\n",
              "53    real_puma_03_1.jpg\n",
              "54      fake_puma_05.png\n",
              "55    real_puma_05_1.jpg\n",
              "56      fake_puma_02.jpg\n",
              "57    fake_puma_07_1.jpg\n",
              "58    fake_puma_17_1.jpg\n",
              "59      fake_puma_03.jpg\n",
              "60    fake_puma_16_1.jpg\n",
              "61      fake_puma_06.jpg\n",
              "Name: name, dtype: object"
            ]
          },
          "metadata": {},
          "execution_count": 15
        }
      ]
    },
    {
      "cell_type": "code",
      "source": [
        "fake = matches_df[matches_df.image_type =='fake']\n",
        "real = matches_df[matches_df.image_type == 'real']\n",
        "real_cosine_min = real.cosine.min() # 가장 덜 유사한 것\n",
        "real_euclidean_max = real.euclidean.max() # 가장 거리가 먼 것"
      ],
      "metadata": {
        "id": "XdGE0-JEUfDb"
      },
      "execution_count": 16,
      "outputs": []
    },
    {
      "cell_type": "code",
      "source": [
        "print(len(real), len(fake))"
      ],
      "metadata": {
        "id": "M_vlpiliQze-",
        "colab": {
          "base_uri": "https://localhost:8080/"
        },
        "outputId": "b3feb092-5410-4b5a-ee21-a496b92b12c0"
      },
      "execution_count": 17,
      "outputs": [
        {
          "output_type": "stream",
          "name": "stdout",
          "text": [
            "47 65\n"
          ]
        }
      ]
    },
    {
      "cell_type": "code",
      "source": [
        "plt.figure(figsize=(10,5))\n",
        "sns.distplot(fake.cosine, label='fake')\n",
        "sns.distplot(real.cosine, label='real')\n",
        "plt.legend()\n",
        "plt.show()"
      ],
      "metadata": {
        "id": "TMxtoGrFlp0x",
        "colab": {
          "base_uri": "https://localhost:8080/",
          "height": 866
        },
        "outputId": "72a18926-710f-442c-ec63-d93c92aec22f"
      },
      "execution_count": 18,
      "outputs": [
        {
          "output_type": "stream",
          "name": "stderr",
          "text": [
            "<ipython-input-18-407ccde58b60>:2: UserWarning: \n",
            "\n",
            "`distplot` is a deprecated function and will be removed in seaborn v0.14.0.\n",
            "\n",
            "Please adapt your code to use either `displot` (a figure-level function with\n",
            "similar flexibility) or `histplot` (an axes-level function for histograms).\n",
            "\n",
            "For a guide to updating your code to use the new functions, please see\n",
            "https://gist.github.com/mwaskom/de44147ed2974457ad6372750bbe5751\n",
            "\n",
            "  sns.distplot(fake.cosine, label='fake')\n",
            "<ipython-input-18-407ccde58b60>:3: UserWarning: \n",
            "\n",
            "`distplot` is a deprecated function and will be removed in seaborn v0.14.0.\n",
            "\n",
            "Please adapt your code to use either `displot` (a figure-level function with\n",
            "similar flexibility) or `histplot` (an axes-level function for histograms).\n",
            "\n",
            "For a guide to updating your code to use the new functions, please see\n",
            "https://gist.github.com/mwaskom/de44147ed2974457ad6372750bbe5751\n",
            "\n",
            "  sns.distplot(real.cosine, label='real')\n"
          ]
        },
        {
          "output_type": "display_data",
          "data": {
            "text/plain": [
              "<Figure size 1000x500 with 1 Axes>"
            ],
            "image/png": "[encoded data removed]"
          },
          "metadata": {}
        }
      ]
    },
    {
      "cell_type": "code",
      "source": [
        "plt.figure(figsize=(10,5))\n",
        "sns.distplot(fake.euclidean, label='fake')\n",
        "sns.distplot(real.euclidean, label='real')\n",
        "plt.legend()\n",
        "plt.show()"
      ],
      "metadata": {
        "id": "-_hJaTpDoGUD",
        "colab": {
          "base_uri": "https://localhost:8080/",
          "height": 866
        },
        "outputId": "6953735c-0c9f-4bf3-a4e0-9424ce8aca0d"
      },
      "execution_count": 19,
      "outputs": [
        {
          "output_type": "stream",
          "name": "stderr",
          "text": [
            "<ipython-input-19-a7f46544ac64>:2: UserWarning: \n",
            "\n",
            "`distplot` is a deprecated function and will be removed in seaborn v0.14.0.\n",
            "\n",
            "Please adapt your code to use either `displot` (a figure-level function with\n",
            "similar flexibility) or `histplot` (an axes-level function for histograms).\n",
            "\n",
            "For a guide to updating your code to use the new functions, please see\n",
            "https://gist.github.com/mwaskom/de44147ed2974457ad6372750bbe5751\n",
            "\n",
            "  sns.distplot(fake.euclidean, label='fake')\n",
            "<ipython-input-19-a7f46544ac64>:3: UserWarning: \n",
            "\n",
            "`distplot` is a deprecated function and will be removed in seaborn v0.14.0.\n",
            "\n",
            "Please adapt your code to use either `displot` (a figure-level function with\n",
            "similar flexibility) or `histplot` (an axes-level function for histograms).\n",
            "\n",
            "For a guide to updating your code to use the new functions, please see\n",
            "https://gist.github.com/mwaskom/de44147ed2974457ad6372750bbe5751\n",
            "\n",
            "  sns.distplot(real.euclidean, label='real')\n"
          ]
        },
        {
          "output_type": "display_data",
          "data": {
            "text/plain": [
              "<Figure size 1000x500 with 1 Axes>"
            ],
            "image/png": "[encoded data removed]"
          },
          "metadata": {}
        }
      ]
    },
    {
      "cell_type": "code",
      "source": [
        "matches_df.loc[:, 'pred_by_cosine'] = matches_df.cosine.apply(lambda x: 'fake' if x < 0.89 else 'real') # threshold : 0.89 -> F1-score : 0.782\n",
        "matches_df.loc[:, 'pred_by_euclidean'] = matches_df.euclidean.apply(lambda x: 'fake' if x > 146 else 'real') # threshold : 146 -> F1-score : 0.802"
      ],
      "metadata": {
        "id": "Zprzg_n_ygcm"
      },
      "execution_count": 20,
      "outputs": []
    },
    {
      "cell_type": "code",
      "source": [
        "f1_cosine = metrics.f1_score(matches_df.image_type, matches_df.pred_by_cosine, pos_label='real')\n",
        "f1_euclidean = metrics.f1_score(matches_df.image_type, matches_df.pred_by_euclidean, pos_label='real')\n",
        "print(f'cosine_f1 : {round(f1_cosine,3)}')\n",
        "print(f'euclidean_f1 : {round(f1_euclidean,3)}')"
      ],
      "metadata": {
        "id": "ijt3K9rc6wyD",
        "colab": {
          "base_uri": "https://localhost:8080/"
        },
        "outputId": "64b6724b-45f1-4d33-fcde-4eb2b3e5432a"
      },
      "execution_count": 21,
      "outputs": [
        {
          "output_type": "stream",
          "name": "stdout",
          "text": [
            "cosine_f1 : 0.732\n",
            "euclidean_f1 : 0.732\n"
          ]
        }
      ]
    },
    {
      "cell_type": "markdown",
      "source": [
        "## Specificity"
      ],
      "metadata": {
        "id": "sCTnX2BJowNN"
      }
    },
    {
      "cell_type": "code",
      "source": [
        "cosine_matrix = metrics.confusion_matrix(matches_df.image_type, matches_df.pred_by_cosine)\n",
        "sns.heatmap(cosine_matrix, annot=True, cmap='Blues', xticklabels=['Pred Negative', 'Pred Positive'], yticklabels=['Negative', 'Positive'])\n",
        "\n",
        "tn, fp, fn, tp = cosine_matrix.ravel()\n",
        "print(f'Specificity : {tn / (tn+fp)}')"
      ],
      "metadata": {
        "id": "z7vp-VF1Wi8L",
        "colab": {
          "base_uri": "https://localhost:8080/",
          "height": 453
        },
        "outputId": "a80b0754-c255-448e-c8e7-fcde46f3dd22"
      },
      "execution_count": 22,
      "outputs": [
        {
          "output_type": "stream",
          "name": "stdout",
          "text": [
            "Specificity : 0.9230769230769231\n"
          ]
        },
        {
          "output_type": "display_data",
          "data": {
            "text/plain": [
              "<Figure size 640x480 with 2 Axes>"
            ],
            "image/png": "[encoded data removed]"
          },
          "metadata": {}
        }
      ]
    },
    {
      "cell_type": "code",
      "source": [
        "len(matches_df[matches_df.pred_by_cosine == matches_df.image_type])"
      ],
      "metadata": {
        "id": "8gH-mkxOm5Rq",
        "colab": {
          "base_uri": "https://localhost:8080/"
        },
        "outputId": "2f9e37eb-277a-4257-92f1-f16a2924a161"
      },
      "execution_count": 23,
      "outputs": [
        {
          "output_type": "execute_result",
          "data": {
            "text/plain": [
              "90"
            ]
          },
          "metadata": {},
          "execution_count": 23
        }
      ]
    },
    {
      "cell_type": "code",
      "source": [
        "euclidean_matrix = metrics.confusion_matrix(matches_df.image_type, matches_df.pred_by_euclidean)\n",
        "sns.heatmap(euclidean_matrix, annot=True, cmap='Blues', xticklabels=['Pred Negative', 'Pred Positive'], yticklabels=['Negative', 'Positive'])\n",
        "\n",
        "tn, fp, fn, tp = euclidean_matrix.ravel()\n",
        "print(f'Specificity : {tn / (tn+fp)}')"
      ],
      "metadata": {
        "id": "BQquKt-YmObD",
        "colab": {
          "base_uri": "https://localhost:8080/",
          "height": 453
        },
        "outputId": "72a5e501-55d3-477d-bdeb-d422e2e2b865"
      },
      "execution_count": 24,
      "outputs": [
        {
          "output_type": "stream",
          "name": "stdout",
          "text": [
            "Specificity : 0.9230769230769231\n"
          ]
        },
        {
          "output_type": "display_data",
          "data": {
            "text/plain": [
              "<Figure size 640x480 with 2 Axes>"
            ],
            "image/png": "[encoded data removed]"
          },
          "metadata": {}
        }
      ]
    },
    {
      "cell_type": "code",
      "source": [
        "len(matches_df[matches_df.pred_by_euclidean == matches_df.image_type])"
      ],
      "metadata": {
        "id": "mdgd4vkYnZvm",
        "colab": {
          "base_uri": "https://localhost:8080/"
        },
        "outputId": "7303fa5b-3593-4270-84d8-4d253d9fac6c"
      },
      "execution_count": 25,
      "outputs": [
        {
          "output_type": "execute_result",
          "data": {
            "text/plain": [
              "90"
            ]
          },
          "metadata": {},
          "execution_count": 25
        }
      ]
    },
    {
      "cell_type": "markdown",
      "source": [
        "## Recall\n",
        "가품이 진품으로 분류되는 것을 더 조심해야 한다면, 리콜(Recall)을 쓰는게 맞음\n",
        "\n",
        "리콜은 실제 가품인 샘플들 중에서 모델이 가품으로 올바르게 분류한 비율을 나타냅니다.\n",
        "\n",
        "즉, 모델이 실제 가품을 놓치지 않고 얼마나 잘 탐지하는지를 측정합니다.\n",
        "\n",
        "따라서 리콜을 최적화하여 모델을 평가하고 비교하는 것이 중요함.\n",
        "\n",
        " 높은 리콜 값은 실제 가품을 놓치는 것을 줄여줄 수 있으며, 따라서 이러한 상황에서 모델의 성능을 더 향상시킬 수 있습니다."
      ],
      "metadata": {
        "id": "oJOqCku8o0Ir"
      }
    },
    {
      "cell_type": "code",
      "source": [
        "cosine_matrix = metrics.confusion_matrix(matches_df.image_type, matches_df.pred_by_cosine)\n",
        "sns.heatmap(cosine_matrix, annot=True, cmap='Blues', xticklabels=['Pred Negative', 'Pred Positive'], yticklabels=['Negative', 'Positive'])\n",
        "\n",
        "tn, fp, fn, tp = cosine_matrix.ravel()\n",
        "print(f'Recall : {tp / (tp+fn)}')"
      ],
      "metadata": {
        "id": "efxRk6T6kTBr",
        "colab": {
          "base_uri": "https://localhost:8080/",
          "height": 453
        },
        "outputId": "7ca06b11-359d-4c05-b3bb-a6aab66230ae"
      },
      "execution_count": 26,
      "outputs": [
        {
          "output_type": "stream",
          "name": "stdout",
          "text": [
            "Recall : 0.6382978723404256\n"
          ]
        },
        {
          "output_type": "display_data",
          "data": {
            "text/plain": [
              "<Figure size 640x480 with 2 Axes>"
            ],
            "image/png": "[encoded data removed]"
          },
          "metadata": {}
        }
      ]
    },
    {
      "cell_type": "code",
      "source": [
        "euclidean_matrix = metrics.confusion_matrix(matches_df.image_type, matches_df.pred_by_euclidean)\n",
        "sns.heatmap(euclidean_matrix, annot=True, cmap='Blues', xticklabels=['Pred Negative', 'Pred Positive'], yticklabels=['Negative', 'Positive'])\n",
        "\n",
        "tn, fp, fn, tp = euclidean_matrix.ravel()\n",
        "print(f'Recall : {tp / (tp+fn)}')"
      ],
      "metadata": {
        "id": "sRprLIsUpDN3",
        "colab": {
          "base_uri": "https://localhost:8080/",
          "height": 453
        },
        "outputId": "5303aefd-0d5c-456d-be46-9f67a02b437c"
      },
      "execution_count": 27,
      "outputs": [
        {
          "output_type": "stream",
          "name": "stdout",
          "text": [
            "Recall : 0.6382978723404256\n"
          ]
        },
        {
          "output_type": "display_data",
          "data": {
            "text/plain": [
              "<Figure size 640x480 with 2 Axes>"
            ],
            "image/png": "[encoded data removed]"
          },
          "metadata": {}
        }
      ]
    },
    {
      "cell_type": "markdown",
      "source": [
        "## Precision\n",
        "​진품과 가품을 분류하는 문제에서는 정밀도(Precision)를 쓰는 게 맞다고 생각함.\n",
        "\n",
        "정밀도는 모델이 가품으로 분류한 샘플 중에서 실제로 가품인 비율을 나타내므로, 이 지표를 통해 모델이 얼마나 신뢰할 수 있는지를 알 수 있습니다.\n",
        "\n",
        "가품을 정확하게 탐지하는 것이 중요한 경우에는 정밀도를 주로 고려하는 것이 좋습니다. 왜냐하면 가품으로 잘못 분류되는 경우가 적어야 하기 때문입니다.\n",
        "\n",
        "따라서 정밀도를 최적화하여 모델을 평가하고 비교하는 것이 유용할 것입니다.\n"
      ],
      "metadata": {
        "id": "HO6BjHxdpzT8"
      }
    },
    {
      "cell_type": "code",
      "source": [
        "cosine_matrix = metrics.confusion_matrix(matches_df.image_type, matches_df.pred_by_cosine)\n",
        "sns.heatmap(cosine_matrix, annot=True, cmap='Blues', xticklabels=['Pred Negative', 'Pred Positive'], yticklabels=['Negative', 'Positive'])\n",
        "\n",
        "tn, fp, fn, tp = cosine_matrix.ravel()\n",
        "print(f'Precision : { tp/(tp+fp)}')"
      ],
      "metadata": {
        "id": "B9PmrUhtpJr4",
        "colab": {
          "base_uri": "https://localhost:8080/",
          "height": 453
        },
        "outputId": "ff1a8d86-c7f8-43d0-c522-bef058aa934a"
      },
      "execution_count": 28,
      "outputs": [
        {
          "output_type": "stream",
          "name": "stdout",
          "text": [
            "Precision : 0.8571428571428571\n"
          ]
        },
        {
          "output_type": "display_data",
          "data": {
            "text/plain": [
              "<Figure size 640x480 with 2 Axes>"
            ],
            "image/png": "[encoded data removed]"
          },
          "metadata": {}
        }
      ]
    },
    {
      "cell_type": "code",
      "source": [
        "euclidean_matrix = metrics.confusion_matrix(matches_df.image_type, matches_df.pred_by_euclidean)\n",
        "sns.heatmap(euclidean_matrix, annot=True, cmap='Blues', xticklabels=['Pred Negative', 'Pred Positive'], yticklabels=['Negative', 'Positive'])\n",
        "\n",
        "tn, fp, fn, tp = euclidean_matrix.ravel()\n",
        "print(f'Precision : { tp/(tp+fp)}')"
      ],
      "metadata": {
        "id": "M526SppCp9Su",
        "colab": {
          "base_uri": "https://localhost:8080/",
          "height": 453
        },
        "outputId": "42193952-6435-43fa-d2e2-6392df72690b"
      },
      "execution_count": 29,
      "outputs": [
        {
          "output_type": "stream",
          "name": "stdout",
          "text": [
            "Precision : 0.8571428571428571\n"
          ]
        },
        {
          "output_type": "display_data",
          "data": {
            "text/plain": [
              "<Figure size 640x480 with 2 Axes>"
            ],
            "image/png": "[encoded data removed]"
          },
          "metadata": {}
        }
      ]
    },
    {
      "cell_type": "code",
      "source": [],
      "metadata": {
        "id": "mGBQkAVYtCfD"
      },
      "execution_count": 29,
      "outputs": []
    }
  ]
}