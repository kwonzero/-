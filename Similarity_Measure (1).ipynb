{
  "nbformat": 4,
  "nbformat_minor": 0,
  "metadata": {
    "colab": {
      "provenance": [],
      "machine_shape": "hm",
      "toc_visible": true,
      "authorship_tag": "ABX9TyOaGsoKisRfmS5t7n9RCPtJ",
      "include_colab_link": true
    },
    "kernelspec": {
      "name": "python3",
      "display_name": "Python 3"
    },
    "language_info": {
      "name": "python"
    }
  },
  "cells": [
    {
      "cell_type": "markdown",
      "metadata": {
        "id": "view-in-github",
        "colab_type": "text"
      },
      "source": [
        "<a href=\"https://colab.research.google.com/github/LEEINSEO-0118/Brand_Detective/blob/main/Similarity_Measure/Similarity_Measure.ipynb\" target=\"_parent\"><img src=\"https://colab.research.google.com/assets/colab-badge.svg\" alt=\"Open In Colab\"/></a>"
      ]
    },
    {
      "cell_type": "markdown",
      "source": [
        "# Import\n"
      ],
      "metadata": {
        "id": "SUlxJ2-wdObU"
      }
    },
    {
      "cell_type": "code",
      "execution_count": 3,
      "metadata": {
        "id": "ivekpw_rajoV"
      },
      "outputs": [],
      "source": [
        "import os\n",
        "import fnmatch\n",
        "\n",
        "import zipfile\n",
        "import time\n",
        "from tqdm import tqdm\n",
        "\n",
        "\n",
        "import cv2\n",
        "\n",
        "import random\n",
        "import numpy as np\n",
        "\n",
        "import matplotlib.pyplot as plt\n",
        "import matplotlib.gridspec as gridspec\n",
        "import seaborn as sns\n",
        "\n",
        "import pandas as pd\n",
        "from sklearn import metrics"
      ]
    },
    {
      "cell_type": "code",
      "source": [
        "from google.colab import drive\n",
        "drive.mount('/content/drive')"
      ],
      "metadata": {
        "colab": {
          "base_uri": "https://localhost:8080/"
        },
        "id": "621-P0xxfQ1E",
        "outputId": "2a51ec1e-309c-4b11-e22a-f70946335fa0"
      },
      "execution_count": 4,
      "outputs": [
        {
          "output_type": "stream",
          "name": "stdout",
          "text": [
            "Mounted at /content/drive\n"
          ]
        }
      ]
    },
    {
      "cell_type": "code",
      "source": [
        "data = '/content/drive/MyDrive/ai부트캠프/Final_Project/Data'"
      ],
      "metadata": {
        "id": "U2J2TaIYdp-7"
      },
      "execution_count": 5,
      "outputs": []
    },
    {
      "cell_type": "markdown",
      "source": [
        "#SEED\n"
      ],
      "metadata": {
        "id": "pIh7tGn1YXsk"
      }
    },
    {
      "cell_type": "code",
      "source": [
        "def seed_everything(seed):\n",
        "    random.seed(seed)\n",
        "    os.environ['PYTHONHASHSEED'] = str(seed)\n",
        "    np.random.seed(seed)\n",
        "\n",
        "seed_everything(2024) # Seed 고정"
      ],
      "metadata": {
        "id": "dfkfUF22SZml"
      },
      "execution_count": 6,
      "outputs": []
    },
    {
      "cell_type": "markdown",
      "source": [
        "# Upscaling Model"
      ],
      "metadata": {
        "id": "p6eAWRYwS8jl"
      }
    },
    {
      "cell_type": "code",
      "source": [
        "# Define model\n",
        "sr2 = cv2.dnn_superres.DnnSuperResImpl_create()\n",
        "sr2.readModel('/content/drive/MyDrive/ai부트캠프/Final_Project/Similarity_Measure/EDSR_x2.pb')\n",
        "sr2.setModel('edsr', 2)"
      ],
      "metadata": {
        "id": "vQuvBCXFS7kg"
      },
      "execution_count": 7,
      "outputs": []
    },
    {
      "cell_type": "markdown",
      "source": [
        "# Functions\n"
      ],
      "metadata": {
        "id": "Y4t8skZ1x2OZ"
      }
    },
    {
      "cell_type": "markdown",
      "source": [
        "### Check background color"
      ],
      "metadata": {
        "id": "-Isci-9KLKYw"
      }
    },
    {
      "cell_type": "code",
      "source": [
        "def check_background_black(gray_image): # Gray Scale 이미지만 받기\n",
        "    gray = gray_image\n",
        "    gray_cvt = cv2.bitwise_not(gray.copy()) # 비교를 위한 이미지 변환\n",
        "\n",
        "    # 객체와 배경 분리를 위한 threshold 구하기\n",
        "    _, thresh = cv2.threshold(gray, 127, 255, cv2.THRESH_BINARY)\n",
        "    _, thresh_cvt = cv2.threshold(gray_cvt, 127, 255, cv2.THRESH_BINARY)\n",
        "\n",
        "    thresh = cv2.erode(thresh, None, iterations=2)\n",
        "    thresh = cv2.dilate(thresh, None, iterations=2)\n",
        "    thresh_cvt = cv2.erode(thresh_cvt, None, iterations=2)\n",
        "    thresh_cvt = cv2.dilate(thresh_cvt, None, iterations=2)\n",
        "\n",
        "    # 컨투어 찾기\n",
        "    contours, hierarchy = cv2.findContours(thresh.copy(), cv2.RETR_EXTERNAL, cv2.CHAIN_APPROX_SIMPLE) # 면적은 EXTERNAL로 비교, 변환은 CCOMP\n",
        "    sorted_contours = sorted(contours, key=cv2.contourArea, reverse=True)\n",
        "    c0 = sorted_contours[0]\n",
        "    c_area = cv2.contourArea(c0)\n",
        "\n",
        "    contours_cvt, hierarchy_cvt = cv2.findContours(thresh_cvt.copy(), cv2.RETR_EXTERNAL, cv2.CHAIN_APPROX_SIMPLE)\n",
        "    sorted_contours_cvt = sorted(contours_cvt, key=cv2.contourArea, reverse=True)\n",
        "    c0_cvt = sorted_contours_cvt[0]\n",
        "    c_area_cvt = cv2.contourArea(c0_cvt)\n",
        "\n",
        "    # 면적에 따른 결과 반환\n",
        "    check = True\n",
        "    if c_area > c_area_cvt: # bitwise를 하지 않은 이미지의 객체 면적이 넓은 경우 -> 제대로 객체 검출이 안 된 것\n",
        "        check = False\n",
        "    return check"
      ],
      "metadata": {
        "id": "EDxV-hotJKaK"
      },
      "execution_count": 8,
      "outputs": []
    },
    {
      "cell_type": "markdown",
      "source": [
        "### Align Images"
      ],
      "metadata": {
        "id": "c10cXa44uHsU"
      }
    },
    {
      "cell_type": "code",
      "source": [
        "def align_images(image1, image2): # RGB 이미지 입력\n",
        "    img1 = image1\n",
        "    img2 = image2\n",
        "\n",
        "    # upsampling image, 이미지가 작은 경우 keypoints를 구하기 어렵기에 이미지 해상도 증가\n",
        "    img2 = cv2.resize(img2, (img1.shape[1], img1.shape[0]), interpolation = cv2.INTER_LANCZOS4)\n",
        "\n",
        "    # image to gray scale, align 할 때 컬러가 방해요소가 되기에 gray 스케일 변환\n",
        "    img1 = cv2.cvtColor(img1, cv2.COLOR_RGB2GRAY)\n",
        "    img2 = cv2.cvtColor(img2, cv2.COLOR_RGB2GRAY)\n",
        "\n",
        "    # 이미지 변환을 위해 이미지들의 배경을 흰색으로 통일\n",
        "    if check_background_black(img2):\n",
        "        img2 = cv2.bitwise_not(img2)\n",
        "\n",
        "    # AKAZE detector\n",
        "    algorithm = cv2.AKAZE_create(descriptor_type = cv2.AKAZE_DESCRIPTOR_MLDB_UPRIGHT,\n",
        "                                descriptor_size = 0,\n",
        "                                descriptor_channels = 3,\n",
        "                                threshold = 0.00002, # default 0.001 -> 적절히 감소시킬수록 변환이 잘 됨.(0.00002)\n",
        "                                nOctaves = 4, # default 4 ->\n",
        "                                nOctaveLayers = 10, # default 4 -> 늘려주니 성능 상승\n",
        "                                diffusivity = cv2.KAZE_DIFF_PM_G1) # default PM_G2 -> PM_G1 괜찮음\n",
        "\n",
        "    # compute the descriptors with ORB\n",
        "    kp1, des1 = algorithm.detectAndCompute(img1,None)\n",
        "    kp2, des2 = algorithm.detectAndCompute(img2,None)\n",
        "\n",
        "    # Define Matcher\n",
        "    # ORB의 경우 2진 문자열 기반의 방식 -> HAMMING 사용되어져야 함\n",
        "    bf = cv2.BFMatcher(cv2.NORM_HAMMING, crossCheck=True)\n",
        "    matches = bf.match(des1,des2)\n",
        "\n",
        "    # Sort them in the order of their distance.\n",
        "    matches = sorted(matches, key = lambda x:x.distance)\n",
        "\n",
        "    # Aligning image\n",
        "    kp1 = np.float32([kp1[match.queryIdx].pt for match in matches]).reshape(-1, 1, 2)\n",
        "    kp2 = np.float32([kp2[match.trainIdx].pt for match in matches]).reshape(-1, 1, 2)\n",
        "\n",
        "    # 기준 이미지에 맞추어 호모그래피 생성\n",
        "    M, _ = cv2.findHomography(kp2, kp1, cv2.RANSAC)\n",
        "\n",
        "    # 호모그래피를 통한 이미지 변환\n",
        "    aligned = cv2.warpPerspective(img2, M, (img1.shape[1], img1.shape[0]))\n",
        "\n",
        "    return img1, img2, aligned"
      ],
      "metadata": {
        "id": "N3xu-K7buQ2d"
      },
      "execution_count": 9,
      "outputs": []
    },
    {
      "cell_type": "markdown",
      "source": [
        "### Similarity"
      ],
      "metadata": {
        "id": "OAKZrAvYyQFn"
      }
    },
    {
      "cell_type": "code",
      "source": [
        "# 두 이미지의 코사인 유사도\n",
        "def cosine_sim(x0, x1):\n",
        "    dot_product = x0 @ x1\n",
        "    magnitude1 = np.linalg.norm(x0)\n",
        "    magnitude2 = np.linalg.norm(x1)\n",
        "    cosine_similarity = dot_product / (magnitude1 * magnitude2)\n",
        "    return cosine_similarity"
      ],
      "metadata": {
        "id": "cF7KveLHTsq2"
      },
      "execution_count": 10,
      "outputs": []
    },
    {
      "cell_type": "code",
      "source": [
        "# 두 이미지의 유클리디안 유사도\n",
        "def euclidean_dist(x0, x1):\n",
        "    x = x0 - x1\n",
        "    distance = np.sqrt(x @ x)\n",
        "    return distance"
      ],
      "metadata": {
        "id": "ITzoEzxWEC9X"
      },
      "execution_count": 11,
      "outputs": []
    },
    {
      "cell_type": "markdown",
      "source": [
        "### Get similarity DataFrame\n"
      ],
      "metadata": {
        "id": "Aj4Wb_mqfkcr"
      }
    },
    {
      "cell_type": "code",
      "source": [
        "def get_similarity(brands):\n",
        "    cols = ['brand', 'name', 'image_type', 'euclidean', 'cosine']\n",
        "    dicts = {col:[] for col in cols}\n",
        "    for brand in brands:\n",
        "        # 브랜드 폴더 별로 데이터 받아오기\n",
        "        for i, file_name in tqdm(enumerate((os.listdir(f'{data}/image_for_similarity/{brand}')))):\n",
        "            # 이미지 경로 설정\n",
        "            path1 = f'{data}/LOGO/{brand}.png'\n",
        "            path2 = f'{data}/image_for_similarity/{brand}/{file_name}'\n",
        "\n",
        "            # 이미지 받아오기 및 RGB 변환\n",
        "            img1 = cv2.imread(path1, 1)\n",
        "            img2 = cv2.imread(path2, 1)\n",
        "            img1 = cv2.cvtColor(img1, cv2.COLOR_BGR2RGB)\n",
        "            img2 = cv2.cvtColor(img2, cv2.COLOR_BGR2RGB)\n",
        "\n",
        "            # 이미지 조정\n",
        "            img1, img2, aligned = align_images(img1, img2)\n",
        "\n",
        "            # 이미지 Vector 생성\n",
        "            img1_vec = img1.ravel() / 255.\n",
        "            img2_vec = aligned.ravel() / 255.\n",
        "\n",
        "            # Similarity 계산\n",
        "            euclidean = euclidean_dist(img1_vec, img2_vec)\n",
        "            cosine = cosine_sim(img1_vec, img2_vec)\n",
        "\n",
        "            # Label 추출\n",
        "            parts = file_name.split('_')\n",
        "            if 'fake' in parts:\n",
        "                label = 'fake'\n",
        "            elif 'real' in parts:\n",
        "                label = 'real'\n",
        "            else:\n",
        "                label = None\n",
        "\n",
        "            # Dictionary에 데이터 저장\n",
        "            lists = [brand, file_name, label, euclidean, cosine]\n",
        "            for i, col in enumerate(cols):\n",
        "                dicts[col].append(lists[i])\n",
        "    # 저장된 데이터를 DataFrame형태로 반환\n",
        "    matches_df = pd.DataFrame(dicts, columns=cols)\n",
        "    return matches_df"
      ],
      "metadata": {
        "id": "t3d26IXpgoNf"
      },
      "execution_count": 12,
      "outputs": []
    },
    {
      "cell_type": "markdown",
      "source": [
        "### Get Metrics"
      ],
      "metadata": {
        "id": "tx9oB-Ir_cLj"
      }
    },
    {
      "cell_type": "code",
      "source": [
        "def get_metrics(matches_df, threshold):\n",
        "    matches_df.loc[:, 'pred_by_cosine'] = matches_df.cosine.apply(lambda x: 'fake' if x < threshold else 'real')\n",
        "    f1_cosine = metrics.f1_score(matches_df.image_type, matches_df.pred_by_cosine, pos_label='real')\n",
        "    acc_cosine = metrics.accuracy_score(matches_df.image_type, matches_df.pred_by_cosine)\n",
        "    p_cosine = metrics.precision_score(matches_df.image_type, matches_df.pred_by_cosine, pos_label='real')\n",
        "    r_cosine = metrics.recall_score(matches_df.image_type, matches_df.pred_by_cosine, pos_label='real')\n",
        "\n",
        "    cosine_matrix = metrics.confusion_matrix(matches_df.image_type, matches_df.pred_by_cosine)\n",
        "    sns.heatmap(cosine_matrix, annot=True, cmap='Blues', xticklabels=['Pred Negative', 'Pred Positive'], yticklabels=['Negative', 'Positive'])\n",
        "    tn, fp, fn, tp = cosine_matrix.ravel()\n",
        "    s_cosine = tn / (tn+fp)\n",
        "\n",
        "    print(f'cosine_f1_score : {round(f1_cosine,3)}')\n",
        "    print(f'cosine_accuracy : {round(acc_cosine,3)}')\n",
        "    print(f'cosine_precision : {round(p_cosine,3)}')\n",
        "    print(f'cosine_recall : {round(r_cosine,3)}')\n",
        "    print(f'cosine_specificity : {round(s_cosine,3)}')\n",
        "\n",
        "    return f1_cosine, acc_cosine, p_cosine, r_cosine, s_cosine"
      ],
      "metadata": {
        "id": "9iq3ZNPw_dfh"
      },
      "execution_count": 13,
      "outputs": []
    },
    {
      "cell_type": "markdown",
      "source": [
        "# Similarity Measure"
      ],
      "metadata": {
        "id": "jNt6oVx7j7za"
      }
    },
    {
      "cell_type": "code",
      "source": [
        "cols = ['brand', 'name', 'image_type', 'euclidean', 'cosine']\n",
        "dicts = {col:[] for col in cols}\n",
        "\n",
        "brands = ['adidas', 'puma', 'nike']\n",
        "\n",
        "matches_df = get_similarity(brands)\n",
        "f1, acc, precision, recall, specificity = get_metrics(matches_df, 0.86)"
      ],
      "metadata": {
        "id": "uWZtA-vWBA6a",
        "colab": {
          "base_uri": "https://localhost:8080/",
          "height": 578
        },
        "outputId": "309c8468-6cab-4925-be0f-a07d12cdf215"
      },
      "execution_count": 16,
      "outputs": [
        {
          "output_type": "stream",
          "name": "stderr",
          "text": [
            "39it [00:08,  4.57it/s]\n",
            "23it [00:04,  4.99it/s]\n",
            "50it [00:10,  4.86it/s]\n"
          ]
        },
        {
          "output_type": "stream",
          "name": "stdout",
          "text": [
            "cosine_f1_score : 0.769\n",
            "cosine_accuracy : 0.812\n",
            "cosine_precision : 0.795\n",
            "cosine_recall : 0.745\n",
            "cosine_specificity : 0.86\n"
          ]
        },
        {
          "output_type": "display_data",
          "data": {
            "text/plain": [
              "<Figure size 640x480 with 2 Axes>"
            ],
            "image/png": "[encoded data removed]"
          },
          "metadata": {}
        }
      ]
    }
  ]
}